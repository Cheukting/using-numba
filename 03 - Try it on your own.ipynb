{
 "cells": [
  {
   "cell_type": "markdown",
   "metadata": {},
   "source": [
    "## Plotting Fractals\n",
    "Now, let's try to apply what we learnt so far on some numpy computations. The exercise here uses the [Plotting Fractals tutorial form Numpy](https://numpy.org/numpy-tutorials/content/tutorial-plotting-fractals.html). For the mathmetical details, you can check out the original tutorial. Or even better, do that tutorial first before trying this one. For convinence, I have downloaded it and [included in this repo for you](./tutorial-plotting-fractals.ipynb).\n",
    "\n",
    "Just like th original tutorial, we have to import Numpy and Matplotlib. We also have to import `jit` from Numba. If you don't ahve Matplotlib installed, uncommned that following and install it:"
   ]
  },
  {
   "cell_type": "code",
   "execution_count": null,
   "metadata": {},
   "outputs": [],
   "source": [
    "#!pip install matplotlib"
   ]
  },
  {
   "cell_type": "code",
   "execution_count": null,
   "metadata": {},
   "outputs": [],
   "source": [
    "import numpy as np\n",
    "import matplotlib.pyplot as plt\n",
    "from mpl_toolkits.axes_grid1 import make_axes_locatable\n",
    "\n",
    "from numba import jit\n",
    "import time"
   ]
  },
  {
   "cell_type": "markdown",
   "metadata": {},
   "source": [
    "## Julia set\n",
    "\n",
    "Let's creat some fractals in the Julia set. To recap what we learnt in the NumPy tutorial, this is how we create a universial julia function that we can put in different parameters and it iterates to generate the fractal plots."
   ]
  },
  {
   "cell_type": "code",
   "execution_count": null,
   "metadata": {},
   "outputs": [],
   "source": [
    "def julia(mesh, c=-1, num_iter=10, radius=2):\n",
    "\n",
    "    z = mesh.copy()\n",
    "    diverge_len = np.zeros(z.shape)\n",
    "\n",
    "    for i in range(num_iter):\n",
    "        conv_mask = np.abs(z) < radius\n",
    "        z[conv_mask] = np.square(z[conv_mask]) + c\n",
    "        diverge_len[conv_mask] += 1\n",
    "\n",
    "    return diverge_len"
   ]
  },
  {
   "cell_type": "markdown",
   "metadata": {},
   "source": [
    "And there we created the meshes."
   ]
  },
  {
   "cell_type": "code",
   "execution_count": null,
   "metadata": {},
   "outputs": [],
   "source": [
    "x, y = np.meshgrid(np.linspace(-1, 1, 400), np.linspace(-1, 1, 400))\n",
    "small_mesh = x + (1j * y)\n",
    "\n",
    "x, y = np.meshgrid(np.linspace(-2, 2, 400), np.linspace(-2, 2, 400))\n",
    "mesh = x + (1j * y)"
   ]
  },
  {
   "cell_type": "markdown",
   "metadata": {},
   "source": [
    "Fianlly, the plot function."
   ]
  },
  {
   "cell_type": "code",
   "execution_count": null,
   "metadata": {},
   "outputs": [],
   "source": [
    "def plot_fractal(fractal, title='Fractal', figsize=(6, 6), cmap='rainbow', extent=[-2, 2, -2, 2]):\n",
    "\n",
    "    plt.figure(figsize=figsize)\n",
    "    ax = plt.axes()\n",
    "\n",
    "    ax.set_title(f'${title}$')\n",
    "    ax.set_xlabel('Real axis')\n",
    "    ax.set_ylabel('Imaginary axis')\n",
    "\n",
    "    im = ax.imshow(fractal, extent=extent, cmap=cmap)\n",
    "    divider = make_axes_locatable(ax)\n",
    "    cax = divider.append_axes(\"right\", size=\"5%\", pad=0.1)\n",
    "    plt.colorbar(im, cax=cax, label='Number of iterations')"
   ]
  },
  {
   "cell_type": "markdown",
   "metadata": {},
   "source": [
    "And here we creat the plot, I added in a few lines to time how log it takes to make the plots."
   ]
  },
  {
   "cell_type": "code",
   "execution_count": null,
   "metadata": {},
   "outputs": [],
   "source": [
    "start = time.perf_counter()\n",
    "\n",
    "output = julia(mesh, num_iter=15)\n",
    "kwargs = {'title': 'f(z) = z^2 -1'}\n",
    "\n",
    "plot_fractal(output, **kwargs)\n",
    "\n",
    "end = time.perf_counter()\n",
    "\n",
    "print(\"Elapsed (without compilation) = {}s\".format((end - start)))"
   ]
  },
  {
   "cell_type": "markdown",
   "metadata": {},
   "source": [
    "Now, let's try to make it faster. As we see when we created the plot, it make use of multiple interations, maybe Numba can make it faster? Let's try adding the jit no python mode there."
   ]
  },
  {
   "cell_type": "code",
   "execution_count": null,
   "metadata": {},
   "outputs": [],
   "source": [
    "@jit(nopython=True)\n",
    "def julia_fast(mesh, c=-1, num_iter=10, radius=2):\n",
    "\n",
    "    z = mesh.copy()\n",
    "    diverge_len = np.zeros(z.shape)\n",
    "\n",
    "    for i in range(num_iter):\n",
    "        conv_mask = np.abs(z) < radius\n",
    "        z[conv_mask] = np.square(z[conv_mask]) + c\n",
    "        diverge_len[conv_mask] += 1\n",
    "\n",
    "    return diverge_len"
   ]
  },
  {
   "cell_type": "code",
   "execution_count": null,
   "metadata": {},
   "outputs": [],
   "source": [
    "start = time.perf_counter()\n",
    "\n",
    "output = julia_fast(mesh, num_iter=15)\n",
    "kwargs = {'title': 'f(z) = z^2 -1'}\n",
    "\n",
    "plot_fractal(output, **kwargs)\n",
    "\n",
    "end = time.perf_counter()\n",
    "\n",
    "print(\"Elapsed (with compilation) = {}s\".format((end - start)))"
   ]
  },
  {
   "cell_type": "markdown",
   "metadata": {},
   "source": [
    "It does not compile. As we see that Numba does not like the way we use mask. The original code is designed this way to speed up calculation by avodiing element-wise calculation which is slow compare to array calculation with NumPy.\n",
    "\n",
    "Now we have to choose, we can either use the object mode for it or we can use elementwise operations to replace the mask.\n",
    "\n",
    "Normally, if we do not use Numba, doing element-wise operation would be much slower, however, as we see in the previous exercises, since Numba like speeding up loop operation, it maybe able to run faster. So let's give it a try."
   ]
  },
  {
   "cell_type": "code",
   "execution_count": null,
   "metadata": {},
   "outputs": [],
   "source": [
    "## TODO: modify the julia_fast() and use element_op() to make it able to use nopython mode\n",
    "@jit(nopython=True, nogil=True)\n",
    "def element_op(z, div_len, c, radius):\n",
    "    pass\n",
    "\n",
    "@jit(nopython=True,nogil=True)\n",
    "def julia_fast(mesh, c=-1, num_iter=10, radius=2):\n",
    "    pass"
   ]
  },
  {
   "cell_type": "code",
   "execution_count": null,
   "metadata": {},
   "outputs": [],
   "source": [
    "# Un-commend the line below to see how we do it.\n",
    "#%load element_op.py"
   ]
  },
  {
   "cell_type": "markdown",
   "metadata": {},
   "source": [
    "Now let's try the new julia_fast() to see if it is faster"
   ]
  },
  {
   "cell_type": "code",
   "execution_count": null,
   "metadata": {},
   "outputs": [],
   "source": [
    "start = time.perf_counter()\n",
    "\n",
    "output = julia_fast(mesh, num_iter=15)\n",
    "kwargs = {'title': 'f(z) = z^2 -1'}\n",
    "\n",
    "plot_fractal(output, **kwargs)\n",
    "\n",
    "end = time.perf_counter()\n",
    "\n",
    "print(\"Elapsed (with compilation) = {}s\".format((end - start)))"
   ]
  },
  {
   "cell_type": "markdown",
   "metadata": {},
   "source": [
    "We see there is not much improvement. This is becuase we lost sometime for the element-wise operation so the solution is not optimal.\n",
    "\n",
    "But don't give up, let's give the Mandelbrot set a try as well.\n",
    "\n",
    "**Extra Task: do the same we did for Julia set with Mandelbrot set and compare the performance**"
   ]
  },
  {
   "cell_type": "code",
   "execution_count": null,
   "metadata": {},
   "outputs": [],
   "source": []
  }
 ],
 "metadata": {
  "kernelspec": {
   "display_name": "Python 3",
   "language": "python",
   "name": "python3"
  },
  "language_info": {
   "codemirror_mode": {
    "name": "ipython",
    "version": 3
   },
   "file_extension": ".py",
   "mimetype": "text/x-python",
   "name": "python",
   "nbconvert_exporter": "python",
   "pygments_lexer": "ipython3",
   "version": "3.7.3"
  }
 },
 "nbformat": 4,
 "nbformat_minor": 4
}
